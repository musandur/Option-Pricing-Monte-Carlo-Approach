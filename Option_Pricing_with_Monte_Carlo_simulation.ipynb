{
 "cells": [
  {
   "cell_type": "markdown",
   "metadata": {},
   "source": [
    "### Black-Scholes Call Price with Monte Carlo approach"
   ]
  },
  {
   "cell_type": "code",
   "execution_count": 7,
   "metadata": {},
   "outputs": [],
   "source": [
    "import numpy as np\n",
    "import pandas as pd\n",
    "import matplotlib.pyplot as plt\n",
    "from scipy.stats import norm"
   ]
  },
  {
   "cell_type": "code",
   "execution_count": 2,
   "metadata": {},
   "outputs": [],
   "source": [
    "plt.style.use('ggplot')\n",
    "plt.rcParams['figure.figsize'] = (16, 4)"
   ]
  },
  {
   "cell_type": "markdown",
   "metadata": {},
   "source": [
    "### Black-Sholes (BS) formula for call and put option\n",
    "\n",
    "We first build the help function to calculate the call and put price formula at maturity with the BS's closed form solution "
   ]
  },
  {
   "cell_type": "code",
   "execution_count": 29,
   "metadata": {},
   "outputs": [],
   "source": [
    "def call_price_BS(S, K, r, sigma, T):\n",
    "    d1 = (np.log(S / K) + (r + 0.5 * sigma**2) * T) / (sigma * T**.5)\n",
    "    d2 = d1 - sigma * T**.5\n",
    "    n1 = norm.cdf(d1)\n",
    "    n2 = norm.cdf(d2)\n",
    "    DF = np.exp(-r * T)\n",
    "    price = S * n1 - K * DF * n2\n",
    "    \n",
    "    return price\n",
    "    "
   ]
  },
  {
   "cell_type": "code",
   "execution_count": 28,
   "metadata": {},
   "outputs": [],
   "source": [
    "def put_price_BS(S, K, r, sigma, T):\n",
    "    d1 = (np.log(S / K) + (r + .5 * sigma**2) * T) / (sigma * T**.5)\n",
    "    d2 = d1 - sigma * T**.5\n",
    "    n1 = norm.cdf(-d1)\n",
    "    n2 = norm.cdf(-d2)\n",
    "    DF = np.exp(-r * T)\n",
    "    price = K * DF * n2 - S * n1\n",
    "    \n",
    "    return price"
   ]
  },
  {
   "cell_type": "markdown",
   "metadata": {},
   "source": [
    "#### Chosen parameters"
   ]
  },
  {
   "cell_type": "code",
   "execution_count": 31,
   "metadata": {},
   "outputs": [],
   "source": [
    "S = 100 # initial asset price\n",
    "K = 110 # the strike price\n",
    "r = 0.05  # chosen risk-free interest rate\n",
    "sigma = 0.2 # asset volatility\n",
    "T = 0.5 # time to maturity "
   ]
  },
  {
   "cell_type": "markdown",
   "metadata": {},
   "source": [
    "#### True value of the BS formula"
   ]
  },
  {
   "cell_type": "code",
   "execution_count": 32,
   "metadata": {},
   "outputs": [
    {
     "name": "stdout",
     "output_type": "stream",
     "text": [
      "BS true Call option price:  2.9064713215924165\n",
      "BS true Put option price:  10.190561644708993\n"
     ]
    }
   ],
   "source": [
    "call_price = call_price_BS(S, K, r, sigma, T)\n",
    "put_price = put_price_BS(S, K, r, sigma, T)\n",
    "\n",
    "print(\"BS true Call option price: \", call_price)\n",
    "print(\"BS true Put option price: \", put_price)"
   ]
  },
  {
   "cell_type": "code",
   "execution_count": null,
   "metadata": {},
   "outputs": [],
   "source": [
    "\n"
   ]
  },
  {
   "cell_type": "code",
   "execution_count": null,
   "metadata": {},
   "outputs": [],
   "source": []
  },
  {
   "cell_type": "code",
   "execution_count": null,
   "metadata": {},
   "outputs": [],
   "source": []
  },
  {
   "cell_type": "code",
   "execution_count": null,
   "metadata": {},
   "outputs": [],
   "source": []
  },
  {
   "cell_type": "code",
   "execution_count": null,
   "metadata": {},
   "outputs": [],
   "source": []
  }
 ],
 "metadata": {
  "kernelspec": {
   "display_name": "Python 3",
   "language": "python",
   "name": "python3"
  },
  "language_info": {
   "codemirror_mode": {
    "name": "ipython",
    "version": 3
   },
   "file_extension": ".py",
   "mimetype": "text/x-python",
   "name": "python",
   "nbconvert_exporter": "python",
   "pygments_lexer": "ipython3",
   "version": "3.8.12"
  }
 },
 "nbformat": 4,
 "nbformat_minor": 2
}
